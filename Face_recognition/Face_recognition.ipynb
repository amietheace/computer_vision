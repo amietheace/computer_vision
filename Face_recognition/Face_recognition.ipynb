{
  "nbformat": 4,
  "nbformat_minor": 0,
  "metadata": {
    "colab": {
      "name": "Face_recognition.ipynb",
      "provenance": []
    },
    "kernelspec": {
      "name": "python3",
      "display_name": "Python 3"
    },
    "accelerator": "GPU"
  },
  "cells": [
    {
      "cell_type": "markdown",
      "metadata": {
        "id": "QumBJoEjdr44",
        "colab_type": "text"
      },
      "source": [
        "## FaceNet Model\n",
        "FaceNet is a face recognition system that was described by Florian Schroff, et al. at Google in their 2015 paper titled “FaceNet: A Unified Embedding for Face Recognition and Clustering.”\n",
        "\n",
        "It is a system that, given a picture of a face, will extract high-quality features from the face and predict a 128 element vector representation these features, called a face embedding.\n",
        "\n",
        "FaceNet, that directly learns a mapping from face images to a compact Euclidean space where distances directly correspond to a measure of face similarity."
      ]
    },
    {
      "cell_type": "markdown",
      "metadata": {
        "id": "9x-dY74Pd-sI",
        "colab_type": "text"
      },
      "source": [
        "We will use the pre-trained Keras FaceNet model provided by Hiroki Taniai. It was trained on MS-Celeb-1M dataset and expects input images to be color, to have their pixel values whitened (standardized across all three channels), and to have a square shape of 160×160 pixels."
      ]
    },
    {
      "cell_type": "markdown",
      "metadata": {
        "id": "fLsHszqaebhC",
        "colab_type": "text"
      },
      "source": [
        "Model can be downloaded from the link: \n",
        "https://drive.google.com/open?id=1pwQ3H4aJ8a6yyJHZkTwtjcL4wYWQb7bn"
      ]
    },
    {
      "cell_type": "markdown",
      "metadata": {
        "id": "j_U8LnUKe9-c",
        "colab_type": "text"
      },
      "source": [
        "I am using google colab for GPU access so these are some codes for importing the data and pretrained model from drive to the current working directory."
      ]
    },
    {
      "cell_type": "code",
      "metadata": {
        "id": "ZIRZXkGF2CH6",
        "colab_type": "code",
        "colab": {}
      },
      "source": [
        "# Install the PyDrive wrapper & import libraries.\n",
        "# This only needs to be done once per notebook.\n",
        "!pip install -U -q PyDrive\n",
        "from pydrive.auth import GoogleAuth\n",
        "from pydrive.drive import GoogleDrive\n",
        "from google.colab import auth\n",
        "from oauth2client.client import GoogleCredentials\n",
        "\n",
        "# Authenticate and create the PyDrive client.\n",
        "# This only needs to be done once per notebook.\n",
        "auth.authenticate_user()\n",
        "gauth = GoogleAuth()\n",
        "gauth.credentials = GoogleCredentials.get_application_default()\n",
        "drive = GoogleDrive(gauth)\n"
      ],
      "execution_count": 0,
      "outputs": []
    },
    {
      "cell_type": "markdown",
      "metadata": {
        "id": "PWZjuSpje52I",
        "colab_type": "text"
      },
      "source": [
        "## 1. Upload the model in colab\n",
        "\n",
        "Upload the model file and place it in your current working directory with the filename ‘facenet_keras.h5‘.\n"
      ]
    },
    {
      "cell_type": "code",
      "metadata": {
        "id": "rsxiLzfm2WsZ",
        "colab_type": "code",
        "colab": {
          "base_uri": "https://localhost:8080/",
          "height": 34
        },
        "outputId": "57e0e9a3-200b-4e5f-fb85-197f1a5c8348"
      },
      "source": [
        "link1 = 'https://drive.google.com/open?id=1zYrcC3ahctVtWlV6dndm-f7qavYkRQeb'\n",
        "fluff, id_facenet = link1.split('=')\n",
        "print (id_facenet) # Verify that you have everything after '='"
      ],
      "execution_count": 2,
      "outputs": [
        {
          "output_type": "stream",
          "text": [
            "1zYrcC3ahctVtWlV6dndm-f7qavYkRQeb\n"
          ],
          "name": "stdout"
        }
      ]
    },
    {
      "cell_type": "code",
      "metadata": {
        "id": "lxQz2c_o26lp",
        "colab_type": "code",
        "colab": {}
      },
      "source": [
        "downloaded = drive.CreateFile({'id':id_facenet}) \n",
        "downloaded.GetContentFile('facenet.zip')  "
      ],
      "execution_count": 0,
      "outputs": []
    },
    {
      "cell_type": "code",
      "metadata": {
        "id": "MUxlNpXC3ST8",
        "colab_type": "code",
        "colab": {
          "base_uri": "https://localhost:8080/",
          "height": 67
        },
        "outputId": "93a2aa58-6c51-421c-beed-2cad479204d2"
      },
      "source": [
        "!unzip facenet.zip -d/content"
      ],
      "execution_count": 4,
      "outputs": [
        {
          "output_type": "stream",
          "text": [
            "Archive:  facenet.zip\n",
            "  inflating: /content/keras-facenet/weights/facenet_keras_weights.h5  \n",
            "  inflating: /content/keras-facenet/model/facenet_keras.h5  \n"
          ],
          "name": "stdout"
        }
      ]
    },
    {
      "cell_type": "markdown",
      "metadata": {
        "id": "slIFmURxevTh",
        "colab_type": "text"
      },
      "source": [
        "\n",
        "We can load the model directly in Keras using the load_model() function;"
      ]
    },
    {
      "cell_type": "code",
      "metadata": {
        "id": "y3mvcpBQ3aMw",
        "colab_type": "code",
        "colab": {
          "base_uri": "https://localhost:8080/",
          "height": 574
        },
        "outputId": "7bbb2d95-0e5c-45ab-8bb3-7ea7db698f7e"
      },
      "source": [
        "# example of loading the keras facenet model\n",
        "from keras.models import load_model\n",
        "# load the model\n",
        "model = load_model('/content/keras-facenet/model/facenet_keras.h5')\n",
        "# summarize input and output shape\n",
        "print(model.inputs)\n",
        "print(model.outputs)"
      ],
      "execution_count": 5,
      "outputs": [
        {
          "output_type": "stream",
          "text": [
            "Using TensorFlow backend.\n"
          ],
          "name": "stderr"
        },
        {
          "output_type": "stream",
          "text": [
            "WARNING:tensorflow:From /usr/local/lib/python3.6/dist-packages/keras/backend/tensorflow_backend.py:541: The name tf.placeholder is deprecated. Please use tf.compat.v1.placeholder instead.\n",
            "\n",
            "WARNING:tensorflow:From /usr/local/lib/python3.6/dist-packages/keras/backend/tensorflow_backend.py:4432: The name tf.random_uniform is deprecated. Please use tf.random.uniform instead.\n",
            "\n",
            "WARNING:tensorflow:From /usr/local/lib/python3.6/dist-packages/keras/backend/tensorflow_backend.py:66: The name tf.get_default_graph is deprecated. Please use tf.compat.v1.get_default_graph instead.\n",
            "\n",
            "WARNING:tensorflow:From /usr/local/lib/python3.6/dist-packages/keras/backend/tensorflow_backend.py:190: The name tf.get_default_session is deprecated. Please use tf.compat.v1.get_default_session instead.\n",
            "\n",
            "WARNING:tensorflow:From /usr/local/lib/python3.6/dist-packages/keras/backend/tensorflow_backend.py:197: The name tf.ConfigProto is deprecated. Please use tf.compat.v1.ConfigProto instead.\n",
            "\n",
            "WARNING:tensorflow:From /usr/local/lib/python3.6/dist-packages/keras/backend/tensorflow_backend.py:203: The name tf.Session is deprecated. Please use tf.compat.v1.Session instead.\n",
            "\n",
            "WARNING:tensorflow:From /usr/local/lib/python3.6/dist-packages/keras/backend/tensorflow_backend.py:207: The name tf.global_variables is deprecated. Please use tf.compat.v1.global_variables instead.\n",
            "\n",
            "WARNING:tensorflow:From /usr/local/lib/python3.6/dist-packages/keras/backend/tensorflow_backend.py:216: The name tf.is_variable_initialized is deprecated. Please use tf.compat.v1.is_variable_initialized instead.\n",
            "\n",
            "WARNING:tensorflow:From /usr/local/lib/python3.6/dist-packages/keras/backend/tensorflow_backend.py:223: The name tf.variables_initializer is deprecated. Please use tf.compat.v1.variables_initializer instead.\n",
            "\n",
            "WARNING:tensorflow:From /usr/local/lib/python3.6/dist-packages/keras/backend/tensorflow_backend.py:2041: The name tf.nn.fused_batch_norm is deprecated. Please use tf.compat.v1.nn.fused_batch_norm instead.\n",
            "\n",
            "WARNING:tensorflow:From /usr/local/lib/python3.6/dist-packages/keras/backend/tensorflow_backend.py:148: The name tf.placeholder_with_default is deprecated. Please use tf.compat.v1.placeholder_with_default instead.\n",
            "\n",
            "WARNING:tensorflow:From /usr/local/lib/python3.6/dist-packages/keras/backend/tensorflow_backend.py:4267: The name tf.nn.max_pool is deprecated. Please use tf.nn.max_pool2d instead.\n",
            "\n",
            "WARNING:tensorflow:From /usr/local/lib/python3.6/dist-packages/keras/backend/tensorflow_backend.py:3733: calling dropout (from tensorflow.python.ops.nn_ops) with keep_prob is deprecated and will be removed in a future version.\n",
            "Instructions for updating:\n",
            "Please use `rate` instead of `keep_prob`. Rate should be set to `rate = 1 - keep_prob`.\n",
            "[<tf.Tensor 'input_1:0' shape=(?, 160, 160, 3) dtype=float32>]\n",
            "[<tf.Tensor 'Bottleneck_BatchNorm/cond/Merge:0' shape=(?, 128) dtype=float32>]\n"
          ],
          "name": "stdout"
        },
        {
          "output_type": "stream",
          "text": [
            "/usr/local/lib/python3.6/dist-packages/keras/engine/saving.py:310: UserWarning: No training configuration found in save file: the model was *not* compiled. Compile it manually.\n",
            "  warnings.warn('No training configuration found in save file: '\n"
          ],
          "name": "stderr"
        }
      ]
    },
    {
      "cell_type": "markdown",
      "metadata": {
        "id": "BilwRqgsfoaG",
        "colab_type": "text"
      },
      "source": [
        "## 2. Upload the dataset\n",
        "\n",
        "The 5 Celebrity Faces Dataset is a small dataset that contains photographs of celebrities.\n",
        "I have my images in that also so that it can detect 6 different classes.\n",
        "\n",
        "It includes photos of: Ben Affleck, Elton John, Jerry Seinfeld, Madonna, Mindy Kaling and myself.\n",
        "\n",
        "The dataset was prepared and made available by Dan Becker and provided for free download on Kaggle. It can be downloaded from kaggle:\n",
        "https://www.kaggle.com/dansbecker/5-celebrity-faces-dataset"
      ]
    },
    {
      "cell_type": "code",
      "metadata": {
        "id": "gkXCSw_-3v3U",
        "colab_type": "code",
        "colab": {
          "base_uri": "https://localhost:8080/",
          "height": 34
        },
        "outputId": "38649496-8dc7-476a-8195-94d892f7b079"
      },
      "source": [
        "link2 = 'https://drive.google.com/open?id=1SVS5veE3dPwj0vIvISBAYoEZGdeFdnD-'\n",
        "fluff, id_data = link2.split('=')\n",
        "print (id_data) # Verify that you have everything after '='"
      ],
      "execution_count": 6,
      "outputs": [
        {
          "output_type": "stream",
          "text": [
            "1SVS5veE3dPwj0vIvISBAYoEZGdeFdnD-\n"
          ],
          "name": "stdout"
        }
      ]
    },
    {
      "cell_type": "code",
      "metadata": {
        "id": "ExuDeW5C4VmT",
        "colab_type": "code",
        "colab": {}
      },
      "source": [
        "downloaded = drive.CreateFile({'id':id_data}) \n",
        "downloaded.GetContentFile('data.zip')  "
      ],
      "execution_count": 0,
      "outputs": []
    },
    {
      "cell_type": "code",
      "metadata": {
        "id": "1EH2d2uk4fpu",
        "colab_type": "code",
        "colab": {
          "base_uri": "https://localhost:8080/",
          "height": 1000
        },
        "outputId": "755dd5db-fe4a-4aa1-9575-74828a6ecd18"
      },
      "source": [
        "!unzip data.zip -d/content"
      ],
      "execution_count": 10,
      "outputs": [
        {
          "output_type": "stream",
          "text": [
            "Archive:  data.zip\n",
            "   creating: /content/5-celebrity-faces-dataset/\n",
            "   creating: /content/5-celebrity-faces-dataset/train/\n",
            "   creating: /content/5-celebrity-faces-dataset/train/amit/\n",
            "  inflating: /content/5-celebrity-faces-dataset/train/amit/IMG-20160229-WA0001.jpg  \n",
            "  inflating: /content/5-celebrity-faces-dataset/train/amit/IMG-20160301-WA0013.jpg  \n",
            "  inflating: /content/5-celebrity-faces-dataset/train/amit/WP_20160510_09_25_41_Selfie.jpg  \n",
            "  inflating: /content/5-celebrity-faces-dataset/train/amit/WP_20160512_14_39_12_Pro.jpg  \n",
            "  inflating: /content/5-celebrity-faces-dataset/train/amit/WP_20160514_18_45_59_Selfie.jpg  \n",
            "  inflating: /content/5-celebrity-faces-dataset/train/amit/WP_20160515_08_14_13_Selfie.jpg  \n",
            "  inflating: /content/5-celebrity-faces-dataset/train/amit/WP_20160521_18_47_28_Pro.jpg  \n",
            "  inflating: /content/5-celebrity-faces-dataset/train/amit/WP_20160521_18_47_32_Pro.jpg  \n",
            "  inflating: /content/5-celebrity-faces-dataset/train/amit/WP_20160522_13_52_27_Pro.jpg  \n",
            "  inflating: /content/5-celebrity-faces-dataset/train/amit/WP_20160524_18_56_25_Pro.jpg  \n",
            "  inflating: /content/5-celebrity-faces-dataset/train/amit/WP_20160529_10_13_40_Selfie.jpg  \n",
            "  inflating: /content/5-celebrity-faces-dataset/train/amit/WP_20160529_10_15_21_Selfie(1).jpg  \n",
            "  inflating: /content/5-celebrity-faces-dataset/train/amit/WP_20160709_18_23_14_Selfie.jpg  \n",
            "  inflating: /content/5-celebrity-faces-dataset/train/amit/WP_20170507_15_31_45_Pro.jpg  \n",
            "  inflating: /content/5-celebrity-faces-dataset/train/amit/WP_20170824_12_06_08_Pro.jpg  \n",
            "  inflating: /content/5-celebrity-faces-dataset/train/amit/WP_20171104_22_05_08_Pro.jpg  \n",
            "   creating: /content/5-celebrity-faces-dataset/train/ben_afflek/\n",
            "  inflating: /content/5-celebrity-faces-dataset/train/ben_afflek/httpcsvkmeuaeccjpg.jpg  \n",
            "  inflating: /content/5-celebrity-faces-dataset/train/ben_afflek/httpimagesfandangocomrImageRendererredesignstaticimgnoxportraitjpgpcpcpcimagesmasterrepositoryperformerimagespjpg.jpg  \n",
            "  inflating: /content/5-celebrity-faces-dataset/train/ben_afflek/httpssmediacacheakpinimgcomxdbbdbbbececacdecdcdfjpg.jpg  \n",
            "  inflating: /content/5-celebrity-faces-dataset/train/ben_afflek/httpssmediacacheakpinimgcomxdfdfadcfeabjpg.jpg  \n",
            "  inflating: /content/5-celebrity-faces-dataset/train/ben_afflek/httpssmediacacheakpinimgcomxedaedabcbefbcbabbjpg.jpg  \n",
            "  inflating: /content/5-celebrity-faces-dataset/train/ben_afflek/httpssmediacacheakpinimgcomxeebdfdbaaajpg.jpg  \n",
            "  inflating: /content/5-celebrity-faces-dataset/train/ben_afflek/httpssmediacacheakpinimgcomxeeedcacddeccccacfjpg.jpg  \n",
            "  inflating: /content/5-celebrity-faces-dataset/train/ben_afflek/httpsuploadwikimediaorgwikipediacommonsthumbddBenAffleckbyGageSkidmorejpgpxBenAffleckbyGageSkidmorejpg.jpg  \n",
            "  inflating: /content/5-celebrity-faces-dataset/train/ben_afflek/httptrwebimgacstanetcxbdddmediasnmediajpg.jpg  \n",
            "  inflating: /content/5-celebrity-faces-dataset/train/ben_afflek/httpwwwaceshowbizcomimagesphotobenaffleckjpg.jpg  \n",
            "  inflating: /content/5-celebrity-faces-dataset/train/ben_afflek/httpwwwallposterscomimagesPostersPFjpg.jpg  \n",
            "  inflating: /content/5-celebrity-faces-dataset/train/ben_afflek/httpwwwfilmscoopitcgibinattoriBENAFFLECKBENAFFLECKjpg.jpg  \n",
            "  inflating: /content/5-celebrity-faces-dataset/train/ben_afflek/httpwwwhillsindcomstorebenjpg.jpg  \n",
            " extracting: /content/5-celebrity-faces-dataset/train/ben_afflek/httpwwwrumenewscomwpcontentuploadsbenafflekxpng.jpg  \n",
            "   creating: /content/5-celebrity-faces-dataset/train/elton_john/\n",
            "  inflating: /content/5-celebrity-faces-dataset/train/elton_john/httpftqncomymusicLxZeltonjohnjpg.jpg  \n",
            "  inflating: /content/5-celebrity-faces-dataset/train/elton_john/httpiamediaimdbcomimagesMMVBMTAxNDUMzUwOTdeQTJeQWpwZBbWUMDUOTAyNTIVUXCRALjpg.jpg  \n",
            "  inflating: /content/5-celebrity-faces-dataset/train/elton_john/httpimagesmtvcomurimgidfiledocrootvhcomsitewideflipbooksimgdailyjpgenlargefalsemattetruematteColorblackquality.jpg  \n",
            "  inflating: /content/5-celebrity-faces-dataset/train/elton_john/httpimggalpmdstaticnetfithttpAFFwwwEgalaEfrFvarFgalFstorageFimagesFmediaFmultiuploaddufevrierFeltonjohnFfreFRFeltonjohnEjpgxqualityeltonjohnjpg.jpg  \n",
            "  inflating: /content/5-celebrity-faces-dataset/train/elton_john/httpmediacacheecpinimgcomxffeffbcefjpg.jpg  \n",
            "  inflating: /content/5-celebrity-faces-dataset/train/elton_john/httpmediapopsugarassetscomfilescbffewltonjpg.jpg  \n",
            "  inflating: /content/5-celebrity-faces-dataset/train/elton_john/httpsdfrpwlycscloudfrontnetdeltonjohnjpg.jpg  \n",
            "  inflating: /content/5-celebrity-faces-dataset/train/elton_john/httpspmctvlinefileswordpresscomeltonjohnjpg.jpg  \n",
            "  inflating: /content/5-celebrity-faces-dataset/train/elton_john/httpssmediacacheakpinimgcomxfcfcbaeaeddabbjpg.jpg  \n",
            "  inflating: /content/5-celebrity-faces-dataset/train/elton_john/httpssmediacacheakpinimgcomxfecfecaefaadfebejpg.jpg  \n",
            "  inflating: /content/5-celebrity-faces-dataset/train/elton_john/httpssmediacacheakpinimgcomxfefdacfbfdeadajpg.jpg  \n",
            "  inflating: /content/5-celebrity-faces-dataset/train/elton_john/httpsticketmnettmenusdamabbacdaebeafdbbCUSTOMjpg.jpg  \n",
            "  inflating: /content/5-celebrity-faces-dataset/train/elton_john/httpsuploadwikimediaorgwikipediacommonsthumbEltonJohninsjpgpxEltonJohninsjpg.jpg  \n",
            "  inflating: /content/5-celebrity-faces-dataset/train/elton_john/httpwwwdeadlinecomvimgnetwpcontentuploadseltonjpg.jpg  \n",
            "  inflating: /content/5-celebrity-faces-dataset/train/elton_john/httpwwweonlinecomresizewwweonlinecomeolimagesEntireSitersxEltonJohnJRjpg.jpg  \n",
            "  inflating: /content/5-celebrity-faces-dataset/train/elton_john/httpwwwjohnpauljonesarenacomeventimagesEltonCalendarVjpg.jpg  \n",
            "  inflating: /content/5-celebrity-faces-dataset/train/elton_john/httpwwwlautdeEltonJohneltonjohnjpg.jpg  \n",
            "   creating: /content/5-celebrity-faces-dataset/train/jerry_seinfeld/\n",
            "  inflating: /content/5-celebrity-faces-dataset/train/jerry_seinfeld/httpgraphicsnytimescomimagessectionmoviesfilmographyWireImagejpg.jpg  \n",
            "  inflating: /content/5-celebrity-faces-dataset/train/jerry_seinfeld/httpikinjaimgcomgawkermediaimageuploadsWmIuhdsrcedidjpgjpg.jpg  \n",
            "  inflating: /content/5-celebrity-faces-dataset/train/jerry_seinfeld/httpimagescontactmusiccomnewsimagesjerryseinfeldjpg.jpg  \n",
            "  inflating: /content/5-celebrity-faces-dataset/train/jerry_seinfeld/httpimagesrottentomatoescomimagesspotlightsnewsjerryseinfeldjpg.jpg  \n",
            "  inflating: /content/5-celebrity-faces-dataset/train/jerry_seinfeld/httpimgthedrumcomsfspublicnewstmpjerryseinfeldjpg.jpg  \n",
            "  inflating: /content/5-celebrity-faces-dataset/train/jerry_seinfeld/httpimgtimeincnetpeopleinewsjerryseinfeldjpg.jpg  \n",
            "  inflating: /content/5-celebrity-faces-dataset/train/jerry_seinfeld/httpmediapopsugarassetscomfilesusersxlargejpg.jpg  \n",
            "  inflating: /content/5-celebrity-faces-dataset/train/jerry_seinfeld/httppfodcompchannelslegacyprofilejerryseinfeldpodcastjpg.jpg  \n",
            "  inflating: /content/5-celebrity-faces-dataset/train/jerry_seinfeld/httpsmedialivenationcomartiststapjpg.jpg  \n",
            "  inflating: /content/5-celebrity-faces-dataset/train/jerry_seinfeld/httpsrobertaccetturacomwpcontentuploadsjerryseinfeldheadshotjpg.jpg  \n",
            "  inflating: /content/5-celebrity-faces-dataset/train/jerry_seinfeld/httpstatictherichestimagescomcdncwpcontentuploadsJerrySeinfeldjpg.jpg  \n",
            "  inflating: /content/5-celebrity-faces-dataset/train/jerry_seinfeld/httpsticketmnettmenusdbimagesajpg.jpg  \n",
            "  inflating: /content/5-celebrity-faces-dataset/train/jerry_seinfeld/httpsuploadwikimediaorgwikipediacommonsthumbbJerrySeinfeldjpgpxJerrySeinfeldjpg.jpg  \n",
            "  inflating: /content/5-celebrity-faces-dataset/train/jerry_seinfeld/httpsuswestamazonawscomblogsprodmediausuploadsJerrySeinfeldkidsxjpg.jpg  \n",
            "  inflating: /content/5-celebrity-faces-dataset/train/jerry_seinfeld/httpswwwticketscomuploadsartistsjerryseinfeldbilletsjpg.jpg  \n",
            "  inflating: /content/5-celebrity-faces-dataset/train/jerry_seinfeld/httpwwweonlinecomresizewwweonlinecomeolimagesEntireSitersxjerryseinfeldjulialouisdreyfusjwjpg.jpg  \n",
            "  inflating: /content/5-celebrity-faces-dataset/train/jerry_seinfeld/httpwwwnndbcompeoplejerryseinfeldaujpg.jpg  \n",
            "  inflating: /content/5-celebrity-faces-dataset/train/jerry_seinfeld/httpwwwpictureszimbiocomgpJerrySeinfeldJessicaSeinfeldmarriedBczSipMdNMQljpg.jpg  \n",
            "  inflating: /content/5-celebrity-faces-dataset/train/jerry_seinfeld/httpwwwpsychiatrictimescomsitesdefaultfilesimagesmediaPTMofficSeinfeldjpg.jpg  \n",
            "  inflating: /content/5-celebrity-faces-dataset/train/jerry_seinfeld/httpwwwslatecomcontentdamslateblogsbrowbeatseinfeldjpgCROParticlemediumjpg.jpg  \n",
            "  inflating: /content/5-celebrity-faces-dataset/train/jerry_seinfeld/httpwwwwatchidcomsitesdefaultfilesuploadsightingBreitlingwatchJerrySeinfeldjpg.jpg  \n",
            "   creating: /content/5-celebrity-faces-dataset/train/madonna/\n",
            "  inflating: /content/5-celebrity-faces-dataset/train/madonna/httpiamediaimdbcomimagesMMVBMTANDQNTAxNDVeQTJeQWpwZBbWUMDIMjQOTYVUXCRALjpg.jpg  \n",
            "  inflating: /content/5-celebrity-faces-dataset/train/madonna/httpimagegaladevcmseamadonnaprivatdetektivsquaretopsquarejpgv.jpg  \n",
            "  inflating: /content/5-celebrity-faces-dataset/train/madonna/httpimgclosermagfrvarclosermagstorageimagesactupeoplebiodestarsmadonnamadonnafreFRmadonnaexactxljpg.jpg  \n",
            "  inflating: /content/5-celebrity-faces-dataset/train/madonna/httpmediavoguecomrwblondesdarkbrowsmadonnajpg.jpg  \n",
            "  inflating: /content/5-celebrity-faces-dataset/train/madonna/httpresizeparismatchladmediafrrffffffcentermiddleimgvarnewsstorageimagesparismatchpeopleazmadonnafreFRMadonnajpg.jpg  \n",
            "  inflating: /content/5-celebrity-faces-dataset/train/madonna/httpssmediacacheakpinimgcomxaaeaaeecccaedfebdbjpg.jpg  \n",
            "  inflating: /content/5-celebrity-faces-dataset/train/madonna/httpssmediacacheakpinimgcomxafafedebcbjpg.jpg  \n",
            "  inflating: /content/5-celebrity-faces-dataset/train/madonna/httpssmediacacheakpinimgcomxdcfdcfedfaedadjpg.jpg  \n",
            "  inflating: /content/5-celebrity-faces-dataset/train/madonna/httpssmediacacheakpinimgcomxfeebfdccajpg.jpg  \n",
            "  inflating: /content/5-celebrity-faces-dataset/train/madonna/httpssmediacacheakpinimgcomxffabffabbbcfbceaedjpg.jpg  \n",
            "  inflating: /content/5-celebrity-faces-dataset/train/madonna/httpssmediacacheakpinimgcomxffeabacaaejpg.jpg  \n",
            "  inflating: /content/5-celebrity-faces-dataset/train/madonna/httpssmediacacheakpinimgcomxffecfafddjpg.jpg  \n",
            "  inflating: /content/5-celebrity-faces-dataset/train/madonna/httpssvagalumecommadonnaimagesmadonnajpg.jpg  \n",
            "  inflating: /content/5-celebrity-faces-dataset/train/madonna/httpsuploadwikimediaorgwikipediacommonsMadonnathAnnualGoldenGlobesAwardscroppedjpg.jpg  \n",
            "  inflating: /content/5-celebrity-faces-dataset/train/madonna/httpsuploadwikimediaorgwikipediacommonsthumbaaMadonnaatthepremiereofIAmBecauseWeArejpgpxMadonnaatthepremiereofIAmBecauseWeArejpg.jpg  \n",
            "  inflating: /content/5-celebrity-faces-dataset/train/madonna/httpuploadwikimediaorgwikipediacommonsthumbaMadonnaRotterdamjpgpxMadonnaRotterdamjpg.jpg  \n",
            "  inflating: /content/5-celebrity-faces-dataset/train/madonna/httpwwwbeastiemaniacomwhoismadonnamadonnajpg.jpg  \n",
            "  inflating: /content/5-celebrity-faces-dataset/train/madonna/httpwwwblackdogfilmscomwordpresswpcontentuploadsmadonnacelebrationxjpg.jpg  \n",
            "  inflating: /content/5-celebrity-faces-dataset/train/madonna/httpwwwetonlinecomphotomadonnabdayjpg.jpg  \n",
            "   creating: /content/5-celebrity-faces-dataset/train/mindy_kaling/\n",
            "  inflating: /content/5-celebrity-faces-dataset/train/mindy_kaling/httpgonetworthcomwpcontentuploadsthumbsjpg.jpg  \n",
            "  inflating: /content/5-celebrity-faces-dataset/train/mindy_kaling/httpgraphicsnytimescomimagesmagazinekalingkalingarticleInlinejpg.jpg  \n",
            "  inflating: /content/5-celebrity-faces-dataset/train/mindy_kaling/httpimagesnymagcomimagesdailymindykalingxjpg.jpg  \n",
            "  inflating: /content/5-celebrity-faces-dataset/train/mindy_kaling/httpmediaonsugarcomfilesbabaaaaaMindyInterviewxxxlargejpg.jpg  \n",
            "  inflating: /content/5-celebrity-faces-dataset/train/mindy_kaling/httppixelnymagcomimgsfashiondailymindykalingwhjpg.jpg  \n",
            "  inflating: /content/5-celebrity-faces-dataset/train/mindy_kaling/httpsamazonawscomkidzworldphotoimagesbccdddaaadgallerymindykalinggalleryjpg.jpg  \n",
            "  inflating: /content/5-celebrity-faces-dataset/train/mindy_kaling/httpsimagesnasslimagesamazoncomimagesIAQdwKvFILUXjpg.jpg  \n",
            "  inflating: /content/5-celebrity-faces-dataset/train/mindy_kaling/httpsimgbuzzfeedcombuzzfeedstaticstaticcampaignimageswebdradorableetsyitemsallmindykalingfansneedbigjpg.jpg  \n",
            "  inflating: /content/5-celebrity-faces-dataset/train/mindy_kaling/httpssmediacacheakpinimgcomxafaffbbbbdbcbdddjpg.jpg  \n",
            "  inflating: /content/5-celebrity-faces-dataset/train/mindy_kaling/httpssmediacacheakpinimgcomxbabafeacbaaacabffjpg.jpg  \n",
            "  inflating: /content/5-celebrity-faces-dataset/train/mindy_kaling/httpssmediacacheakpinimgcomxbbfcbdedfbfdbjpg.jpg  \n",
            "  inflating: /content/5-celebrity-faces-dataset/train/mindy_kaling/httpssmediacacheakpinimgcomxcccccddbbfedabjpg.jpg  \n",
            "  inflating: /content/5-celebrity-faces-dataset/train/mindy_kaling/httpssmediacacheakpinimgcomxccccdabeaadjpg.jpg  \n",
            "  inflating: /content/5-celebrity-faces-dataset/train/mindy_kaling/httpssmediacacheakpinimgcomxededbebccdajpg.jpg  \n",
            "  inflating: /content/5-celebrity-faces-dataset/train/mindy_kaling/httpssmediacacheakpinimgcomxeedccadejpg.jpg  \n",
            "  inflating: /content/5-celebrity-faces-dataset/train/mindy_kaling/httpsuploadwikimediaorgwikipediacommonsthumbMindyBKalingBPaleyFestBNewBYorkBBMindyBIqZgUWvbljpgpxMindyBKalingBPaleyFestBNewBYorkBBMindyBIqZgUWvbljpg.jpg  \n",
            "  inflating: /content/5-celebrity-faces-dataset/train/mindy_kaling/httpwwwadweekcomfilesimagecachenodeinlinemindykalingprofilehedjpg.jpg  \n",
            "  inflating: /content/5-celebrity-faces-dataset/train/mindy_kaling/httpwwwbooksforbetterlivingcomwpcontentuploadsMindyKalingAuthorPhotojpg.jpg  \n",
            "  inflating: /content/5-celebrity-faces-dataset/train/mindy_kaling/httpwwweonlinecomeolimagesEntireSiteregKalingCancermhjpg.jpg  \n",
            "  inflating: /content/5-celebrity-faces-dataset/train/mindy_kaling/httpwwwimpropercomimagesuploadsusercontentimagesSoroffMindyjpg.jpg  \n",
            "  inflating: /content/5-celebrity-faces-dataset/train/mindy_kaling/httpwwwpictureszimbiocomfpMindyKalingfBgaONVFDFmjpg.jpg  \n",
            "  inflating: /content/5-celebrity-faces-dataset/train/mindy_kaling/httpwwwpictureszimbiocomgiMindyKalingLkvEhTwDeJmjpg.jpg  \n",
            "   creating: /content/5-celebrity-faces-dataset/val/\n",
            "   creating: /content/5-celebrity-faces-dataset/val/amit/\n",
            "  inflating: /content/5-celebrity-faces-dataset/val/amit/WP_20160529_10_18_16_Selfie.jpg  \n",
            "  inflating: /content/5-celebrity-faces-dataset/val/amit/WP_20160623_16_12_31_Selfie.jpg  \n",
            "  inflating: /content/5-celebrity-faces-dataset/val/amit/WP_20160630_08_35_29_Selfie.jpg  \n",
            "  inflating: /content/5-celebrity-faces-dataset/val/amit/WP_20160709_17_46_36_Selfie.jpg  \n",
            "  inflating: /content/5-celebrity-faces-dataset/val/amit/WP_20180302_21_42_23_Selfie.jpg  \n",
            "   creating: /content/5-celebrity-faces-dataset/val/ben_afflek/\n",
            "  inflating: /content/5-celebrity-faces-dataset/val/ben_afflek/httpabsolumentgratuitfreefrimagesbenaffleckjpg.jpg  \n",
            "  inflating: /content/5-celebrity-faces-dataset/val/ben_afflek/httpafilesbiographycomimageuploadcfillcssrgbdprgfacehqwMTENDgMDUODczNDcNTcjpg.jpg  \n",
            "  inflating: /content/5-celebrity-faces-dataset/val/ben_afflek/httpbpblogspotcomedLMjVpRGkSWexgsXjkNIAAAAAAAADWgFFtAUqBlhAsjpg.jpg  \n",
            "  inflating: /content/5-celebrity-faces-dataset/val/ben_afflek/httpcsvkmeuaafdfjpg.jpg  \n",
            "  inflating: /content/5-celebrity-faces-dataset/val/ben_afflek/httpcsvkmeuadecafjpg.jpg  \n",
            "   creating: /content/5-celebrity-faces-dataset/val/elton_john/\n",
            "  inflating: /content/5-celebrity-faces-dataset/val/elton_john/httpafilesbiographycomimageuploadcfillcssrgbdprgfacehqwMTEODAOTcxNjcMjczMjkzjpg.jpg  \n",
            "  inflating: /content/5-celebrity-faces-dataset/val/elton_john/httpcdncdnjustjaredcomwpcontentuploadsheadlineseltonjohnemmysperformancewatchnowjpg.jpg  \n",
            "  inflating: /content/5-celebrity-faces-dataset/val/elton_john/httpcdncdnjustjaredcomwpcontentuploadsheadlineseltonjohnstillstandingbrooklynnewyearsjpg.jpg  \n",
            "  inflating: /content/5-celebrity-faces-dataset/val/elton_john/httpcdncdnjustjaredcomwpcontentuploadsheadlineseltonjohnsupportsbrucejennerstransitiontowomanjpg.jpg  \n",
            "  inflating: /content/5-celebrity-faces-dataset/val/elton_john/httpcdnlyricssongonlyricsnetwpcontentuploadsEltonJohnDiscographyCDreleasesjpg.jpg  \n",
            "   creating: /content/5-celebrity-faces-dataset/val/jerry_seinfeld/\n",
            "  inflating: /content/5-celebrity-faces-dataset/val/jerry_seinfeld/httpafilesbiographycomimageuploadcfillcssrgbdprgfacehqwMTIwNjANjMMDINzIxNjcjpg.jpg  \n",
            "  inflating: /content/5-celebrity-faces-dataset/val/jerry_seinfeld/httpaurorasblogcomwpcontentuploadsjerryseinfeldpublicityshotjpg.jpg  \n",
            "  inflating: /content/5-celebrity-faces-dataset/val/jerry_seinfeld/httpblognjcomentertainmentimpactcelebritiesmediumjerrybjpg.jpg  \n",
            "  inflating: /content/5-celebrity-faces-dataset/val/jerry_seinfeld/httpcdncdnjustjaredcomwpcontentuploadsheadlinesjerryseinfeldmakesbrianwilliamsjokejpg.jpg  \n",
            "  inflating: /content/5-celebrity-faces-dataset/val/jerry_seinfeld/httpcdnssninsidercomwpcontentuploadsjerryseinfeldxjpg.jpg  \n",
            "   creating: /content/5-celebrity-faces-dataset/val/madonna/\n",
            "  inflating: /content/5-celebrity-faces-dataset/val/madonna/httpassetsrollingstonecomassetsarticlemadonnadavidbowiechangedthecourseofmylifeforeversmallsquarexmadonnabowiejpg.jpg  \n",
            "  inflating: /content/5-celebrity-faces-dataset/val/madonna/httpassetsrollingstonecomassetsimagesalbumreviewaffaceabdcccaeedjpg.jpg  \n",
            "  inflating: /content/5-celebrity-faces-dataset/val/madonna/httpcdncdnjustjaredcomwpcontentuploadsheadlinesmadonnatalksparisattackstearsjpg.jpg  \n",
            " extracting: /content/5-celebrity-faces-dataset/val/madonna/httpcdnfuncheapcomwpcontentuploadsVOGUEjpg.jpg  \n",
            "  inflating: /content/5-celebrity-faces-dataset/val/madonna/httpecximagesamazoncomimagesIfmaBKWLACULSRjpg.jpg  \n",
            "   creating: /content/5-celebrity-faces-dataset/val/mindy_kaling/\n",
            "  inflating: /content/5-celebrity-faces-dataset/val/mindy_kaling/httpafilesbiographycomimageuploadcfillcssrgbdprgfacehqwMTIOTcwODQNTUzNjQMzcjpg.jpg  \n",
            "  inflating: /content/5-celebrity-faces-dataset/val/mindy_kaling/httpcdncdnjustjaredcomwpcontentuploadsheadlinesmindykalingcomedypilotjpg.jpg  \n",
            "  inflating: /content/5-celebrity-faces-dataset/val/mindy_kaling/httpcdnpastemagazinecomwwwarticlesmindykalingndbookjpg.jpg  \n",
            "  inflating: /content/5-celebrity-faces-dataset/val/mindy_kaling/httpcdnpastemagazinecomwwwarticlesmindyprojectjpg.jpg  \n",
            "  inflating: /content/5-celebrity-faces-dataset/val/mindy_kaling/httpdbrbzkkbdsdcloudfrontnetwpcontentuploadsMindyKalingjpg.jpg  \n"
          ],
          "name": "stdout"
        }
      ]
    },
    {
      "cell_type": "markdown",
      "metadata": {
        "id": "0EArdocCgx4q",
        "colab_type": "text"
      },
      "source": [
        "## 3. Install MTCNN\n",
        "\n",
        "Face detection is the process of automatically locating faces in a photograph and localizing them by drawing a bounding box around their extent.\n",
        "\n",
        "In this, we will also use the Multi-Task Cascaded Convolutional Neural Network, or MTCNN, for face detection, e.g. finding and extracting faces from photos. This is a state-of-the-art deep learning model for face detection, described in the 2016 paper titled “Joint Face Detection and Alignment Using Multitask Cascaded Convolutional Networks.”\n",
        "\n",
        "We will use the implementation provided by Iván de Paz Centeno in the ipazc/mtcnn project. This can also be installed via pip as follows:"
      ]
    },
    {
      "cell_type": "code",
      "metadata": {
        "id": "20jt7qCD5bGU",
        "colab_type": "code",
        "colab": {
          "base_uri": "https://localhost:8080/",
          "height": 205
        },
        "outputId": "b054d7bc-904a-4f75-9793-2408a7c47ac7"
      },
      "source": [
        "!pip install mtcnn"
      ],
      "execution_count": 11,
      "outputs": [
        {
          "output_type": "stream",
          "text": [
            "Collecting mtcnn\n",
            "\u001b[?25l  Downloading https://files.pythonhosted.org/packages/9e/c7/8546b18fbd367b156c5bbbbaa8912ab31c8129171523ff8b47b546d70b09/mtcnn-0.0.9.tar.gz (2.3MB)\n",
            "\r\u001b[K     |▏                               | 10kB 16.8MB/s eta 0:00:01\r\u001b[K     |▎                               | 20kB 4.3MB/s eta 0:00:01\r\u001b[K     |▍                               | 30kB 6.2MB/s eta 0:00:01\r\u001b[K     |▋                               | 40kB 4.0MB/s eta 0:00:01\r\u001b[K     |▊                               | 51kB 5.0MB/s eta 0:00:01\r\u001b[K     |▉                               | 61kB 5.8MB/s eta 0:00:01\r\u001b[K     |█                               | 71kB 6.6MB/s eta 0:00:01\r\u001b[K     |█▏                              | 81kB 7.4MB/s eta 0:00:01\r\u001b[K     |█▎                              | 92kB 8.2MB/s eta 0:00:01\r\u001b[K     |█▌                              | 102kB 6.6MB/s eta 0:00:01\r\u001b[K     |█▋                              | 112kB 6.6MB/s eta 0:00:01\r\u001b[K     |█▊                              | 122kB 6.6MB/s eta 0:00:01\r\u001b[K     |█▉                              | 133kB 6.6MB/s eta 0:00:01\r\u001b[K     |██                              | 143kB 6.6MB/s eta 0:00:01\r\u001b[K     |██▏                             | 153kB 6.6MB/s eta 0:00:01\r\u001b[K     |██▎                             | 163kB 6.6MB/s eta 0:00:01\r\u001b[K     |██▌                             | 174kB 6.6MB/s eta 0:00:01\r\u001b[K     |██▋                             | 184kB 6.6MB/s eta 0:00:01\r\u001b[K     |██▊                             | 194kB 6.6MB/s eta 0:00:01\r\u001b[K     |███                             | 204kB 6.6MB/s eta 0:00:01\r\u001b[K     |███                             | 215kB 6.6MB/s eta 0:00:01\r\u001b[K     |███▏                            | 225kB 6.6MB/s eta 0:00:01\r\u001b[K     |███▍                            | 235kB 6.6MB/s eta 0:00:01\r\u001b[K     |███▌                            | 245kB 6.6MB/s eta 0:00:01\r\u001b[K     |███▋                            | 256kB 6.6MB/s eta 0:00:01\r\u001b[K     |███▊                            | 266kB 6.6MB/s eta 0:00:01\r\u001b[K     |████                            | 276kB 6.6MB/s eta 0:00:01\r\u001b[K     |████                            | 286kB 6.6MB/s eta 0:00:01\r\u001b[K     |████▏                           | 296kB 6.6MB/s eta 0:00:01\r\u001b[K     |████▍                           | 307kB 6.6MB/s eta 0:00:01\r\u001b[K     |████▌                           | 317kB 6.6MB/s eta 0:00:01\r\u001b[K     |████▋                           | 327kB 6.6MB/s eta 0:00:01\r\u001b[K     |████▉                           | 337kB 6.6MB/s eta 0:00:01\r\u001b[K     |█████                           | 348kB 6.6MB/s eta 0:00:01\r\u001b[K     |█████                           | 358kB 6.6MB/s eta 0:00:01\r\u001b[K     |█████▎                          | 368kB 6.6MB/s eta 0:00:01\r\u001b[K     |█████▍                          | 378kB 6.6MB/s eta 0:00:01\r\u001b[K     |█████▌                          | 389kB 6.6MB/s eta 0:00:01\r\u001b[K     |█████▋                          | 399kB 6.6MB/s eta 0:00:01\r\u001b[K     |█████▉                          | 409kB 6.6MB/s eta 0:00:01\r\u001b[K     |██████                          | 419kB 6.6MB/s eta 0:00:01\r\u001b[K     |██████                          | 430kB 6.6MB/s eta 0:00:01\r\u001b[K     |██████▎                         | 440kB 6.6MB/s eta 0:00:01\r\u001b[K     |██████▍                         | 450kB 6.6MB/s eta 0:00:01\r\u001b[K     |██████▌                         | 460kB 6.6MB/s eta 0:00:01\r\u001b[K     |██████▊                         | 471kB 6.6MB/s eta 0:00:01\r\u001b[K     |██████▉                         | 481kB 6.6MB/s eta 0:00:01\r\u001b[K     |███████                         | 491kB 6.6MB/s eta 0:00:01\r\u001b[K     |███████▏                        | 501kB 6.6MB/s eta 0:00:01\r\u001b[K     |███████▎                        | 512kB 6.6MB/s eta 0:00:01\r\u001b[K     |███████▍                        | 522kB 6.6MB/s eta 0:00:01\r\u001b[K     |███████▌                        | 532kB 6.6MB/s eta 0:00:01\r\u001b[K     |███████▊                        | 542kB 6.6MB/s eta 0:00:01\r\u001b[K     |███████▉                        | 552kB 6.6MB/s eta 0:00:01\r\u001b[K     |████████                        | 563kB 6.6MB/s eta 0:00:01\r\u001b[K     |████████▏                       | 573kB 6.6MB/s eta 0:00:01\r\u001b[K     |████████▎                       | 583kB 6.6MB/s eta 0:00:01\r\u001b[K     |████████▍                       | 593kB 6.6MB/s eta 0:00:01\r\u001b[K     |████████▋                       | 604kB 6.6MB/s eta 0:00:01\r\u001b[K     |████████▊                       | 614kB 6.6MB/s eta 0:00:01\r\u001b[K     |████████▉                       | 624kB 6.6MB/s eta 0:00:01\r\u001b[K     |█████████                       | 634kB 6.6MB/s eta 0:00:01\r\u001b[K     |█████████▏                      | 645kB 6.6MB/s eta 0:00:01\r\u001b[K     |█████████▎                      | 655kB 6.6MB/s eta 0:00:01\r\u001b[K     |█████████▍                      | 665kB 6.6MB/s eta 0:00:01\r\u001b[K     |█████████▋                      | 675kB 6.6MB/s eta 0:00:01\r\u001b[K     |█████████▊                      | 686kB 6.6MB/s eta 0:00:01\r\u001b[K     |█████████▉                      | 696kB 6.6MB/s eta 0:00:01\r\u001b[K     |██████████                      | 706kB 6.6MB/s eta 0:00:01\r\u001b[K     |██████████▏                     | 716kB 6.6MB/s eta 0:00:01\r\u001b[K     |██████████▎                     | 727kB 6.6MB/s eta 0:00:01\r\u001b[K     |██████████▌                     | 737kB 6.6MB/s eta 0:00:01\r\u001b[K     |██████████▋                     | 747kB 6.6MB/s eta 0:00:01\r\u001b[K     |██████████▊                     | 757kB 6.6MB/s eta 0:00:01\r\u001b[K     |███████████                     | 768kB 6.6MB/s eta 0:00:01\r\u001b[K     |███████████                     | 778kB 6.6MB/s eta 0:00:01\r\u001b[K     |███████████▏                    | 788kB 6.6MB/s eta 0:00:01\r\u001b[K     |███████████▎                    | 798kB 6.6MB/s eta 0:00:01\r\u001b[K     |███████████▌                    | 808kB 6.6MB/s eta 0:00:01\r\u001b[K     |███████████▋                    | 819kB 6.6MB/s eta 0:00:01\r\u001b[K     |███████████▊                    | 829kB 6.6MB/s eta 0:00:01\r\u001b[K     |████████████                    | 839kB 6.6MB/s eta 0:00:01\r\u001b[K     |████████████                    | 849kB 6.6MB/s eta 0:00:01\r\u001b[K     |████████████▏                   | 860kB 6.6MB/s eta 0:00:01\r\u001b[K     |████████████▍                   | 870kB 6.6MB/s eta 0:00:01\r\u001b[K     |████████████▌                   | 880kB 6.6MB/s eta 0:00:01\r\u001b[K     |████████████▋                   | 890kB 6.6MB/s eta 0:00:01\r\u001b[K     |████████████▉                   | 901kB 6.6MB/s eta 0:00:01\r\u001b[K     |█████████████                   | 911kB 6.6MB/s eta 0:00:01\r\u001b[K     |█████████████                   | 921kB 6.6MB/s eta 0:00:01\r\u001b[K     |█████████████▏                  | 931kB 6.6MB/s eta 0:00:01\r\u001b[K     |█████████████▍                  | 942kB 6.6MB/s eta 0:00:01\r\u001b[K     |█████████████▌                  | 952kB 6.6MB/s eta 0:00:01\r\u001b[K     |█████████████▋                  | 962kB 6.6MB/s eta 0:00:01\r\u001b[K     |█████████████▉                  | 972kB 6.6MB/s eta 0:00:01\r\u001b[K     |██████████████                  | 983kB 6.6MB/s eta 0:00:01\r\u001b[K     |██████████████                  | 993kB 6.6MB/s eta 0:00:01\r\u001b[K     |██████████████▎                 | 1.0MB 6.6MB/s eta 0:00:01\r\u001b[K     |██████████████▍                 | 1.0MB 6.6MB/s eta 0:00:01\r\u001b[K     |██████████████▌                 | 1.0MB 6.6MB/s eta 0:00:01\r\u001b[K     |██████████████▊                 | 1.0MB 6.6MB/s eta 0:00:01\r\u001b[K     |██████████████▉                 | 1.0MB 6.6MB/s eta 0:00:01\r\u001b[K     |███████████████                 | 1.1MB 6.6MB/s eta 0:00:01\r\u001b[K     |███████████████                 | 1.1MB 6.6MB/s eta 0:00:01\r\u001b[K     |███████████████▎                | 1.1MB 6.6MB/s eta 0:00:01\r\u001b[K     |███████████████▍                | 1.1MB 6.6MB/s eta 0:00:01\r\u001b[K     |███████████████▌                | 1.1MB 6.6MB/s eta 0:00:01\r\u001b[K     |███████████████▊                | 1.1MB 6.6MB/s eta 0:00:01\r\u001b[K     |███████████████▉                | 1.1MB 6.6MB/s eta 0:00:01\r\u001b[K     |████████████████                | 1.1MB 6.6MB/s eta 0:00:01\r\u001b[K     |████████████████▏               | 1.1MB 6.6MB/s eta 0:00:01\r\u001b[K     |████████████████▎               | 1.1MB 6.6MB/s eta 0:00:01\r\u001b[K     |████████████████▍               | 1.2MB 6.6MB/s eta 0:00:01\r\u001b[K     |████████████████▋               | 1.2MB 6.6MB/s eta 0:00:01\r\u001b[K     |████████████████▊               | 1.2MB 6.6MB/s eta 0:00:01\r\u001b[K     |████████████████▉               | 1.2MB 6.6MB/s eta 0:00:01\r\u001b[K     |█████████████████               | 1.2MB 6.6MB/s eta 0:00:01\r\u001b[K     |█████████████████▏              | 1.2MB 6.6MB/s eta 0:00:01\r\u001b[K     |█████████████████▎              | 1.2MB 6.6MB/s eta 0:00:01\r\u001b[K     |█████████████████▍              | 1.2MB 6.6MB/s eta 0:00:01\r\u001b[K     |█████████████████▋              | 1.2MB 6.6MB/s eta 0:00:01\r\u001b[K     |█████████████████▊              | 1.2MB 6.6MB/s eta 0:00:01\r\u001b[K     |█████████████████▉              | 1.3MB 6.6MB/s eta 0:00:01\r\u001b[K     |██████████████████              | 1.3MB 6.6MB/s eta 0:00:01\r\u001b[K     |██████████████████▏             | 1.3MB 6.6MB/s eta 0:00:01\r\u001b[K     |██████████████████▎             | 1.3MB 6.6MB/s eta 0:00:01\r\u001b[K     |██████████████████▌             | 1.3MB 6.6MB/s eta 0:00:01\r\u001b[K     |██████████████████▋             | 1.3MB 6.6MB/s eta 0:00:01\r\u001b[K     |██████████████████▊             | 1.3MB 6.6MB/s eta 0:00:01\r\u001b[K     |██████████████████▉             | 1.3MB 6.6MB/s eta 0:00:01\r\u001b[K     |███████████████████             | 1.3MB 6.6MB/s eta 0:00:01\r\u001b[K     |███████████████████▏            | 1.4MB 6.6MB/s eta 0:00:01\r\u001b[K     |███████████████████▎            | 1.4MB 6.6MB/s eta 0:00:01\r\u001b[K     |███████████████████▌            | 1.4MB 6.6MB/s eta 0:00:01\r\u001b[K     |███████████████████▋            | 1.4MB 6.6MB/s eta 0:00:01\r\u001b[K     |███████████████████▊            | 1.4MB 6.6MB/s eta 0:00:01\r\u001b[K     |████████████████████            | 1.4MB 6.6MB/s eta 0:00:01\r\u001b[K     |████████████████████            | 1.4MB 6.6MB/s eta 0:00:01\r\u001b[K     |████████████████████▏           | 1.4MB 6.6MB/s eta 0:00:01\r\u001b[K     |████████████████████▍           | 1.4MB 6.6MB/s eta 0:00:01\r\u001b[K     |████████████████████▌           | 1.4MB 6.6MB/s eta 0:00:01\r\u001b[K     |████████████████████▋           | 1.5MB 6.6MB/s eta 0:00:01\r\u001b[K     |████████████████████▊           | 1.5MB 6.6MB/s eta 0:00:01\r\u001b[K     |█████████████████████           | 1.5MB 6.6MB/s eta 0:00:01\r\u001b[K     |█████████████████████           | 1.5MB 6.6MB/s eta 0:00:01\r\u001b[K     |█████████████████████▏          | 1.5MB 6.6MB/s eta 0:00:01\r\u001b[K     |█████████████████████▍          | 1.5MB 6.6MB/s eta 0:00:01\r\u001b[K     |█████████████████████▌          | 1.5MB 6.6MB/s eta 0:00:01\r\u001b[K     |█████████████████████▋          | 1.5MB 6.6MB/s eta 0:00:01\r\u001b[K     |█████████████████████▉          | 1.5MB 6.6MB/s eta 0:00:01\r\u001b[K     |██████████████████████          | 1.5MB 6.6MB/s eta 0:00:01\r\u001b[K     |██████████████████████          | 1.6MB 6.6MB/s eta 0:00:01\r\u001b[K     |██████████████████████▎         | 1.6MB 6.6MB/s eta 0:00:01\r\u001b[K     |██████████████████████▍         | 1.6MB 6.6MB/s eta 0:00:01\r\u001b[K     |██████████████████████▌         | 1.6MB 6.6MB/s eta 0:00:01\r\u001b[K     |██████████████████████▋         | 1.6MB 6.6MB/s eta 0:00:01\r\u001b[K     |██████████████████████▉         | 1.6MB 6.6MB/s eta 0:00:01\r\u001b[K     |███████████████████████         | 1.6MB 6.6MB/s eta 0:00:01\r\u001b[K     |███████████████████████         | 1.6MB 6.6MB/s eta 0:00:01\r\u001b[K     |███████████████████████▎        | 1.6MB 6.6MB/s eta 0:00:01\r\u001b[K     |███████████████████████▍        | 1.6MB 6.6MB/s eta 0:00:01\r\u001b[K     |███████████████████████▌        | 1.7MB 6.6MB/s eta 0:00:01\r\u001b[K     |███████████████████████▊        | 1.7MB 6.6MB/s eta 0:00:01\r\u001b[K     |███████████████████████▉        | 1.7MB 6.6MB/s eta 0:00:01\r\u001b[K     |████████████████████████        | 1.7MB 6.6MB/s eta 0:00:01\r\u001b[K     |████████████████████████▏       | 1.7MB 6.6MB/s eta 0:00:01\r\u001b[K     |████████████████████████▎       | 1.7MB 6.6MB/s eta 0:00:01\r\u001b[K     |████████████████████████▍       | 1.7MB 6.6MB/s eta 0:00:01\r\u001b[K     |████████████████████████▌       | 1.7MB 6.6MB/s eta 0:00:01\r\u001b[K     |████████████████████████▊       | 1.7MB 6.6MB/s eta 0:00:01\r\u001b[K     |████████████████████████▉       | 1.8MB 6.6MB/s eta 0:00:01\r\u001b[K     |█████████████████████████       | 1.8MB 6.6MB/s eta 0:00:01\r\u001b[K     |█████████████████████████▏      | 1.8MB 6.6MB/s eta 0:00:01\r\u001b[K     |█████████████████████████▎      | 1.8MB 6.6MB/s eta 0:00:01\r\u001b[K     |█████████████████████████▍      | 1.8MB 6.6MB/s eta 0:00:01\r\u001b[K     |█████████████████████████▋      | 1.8MB 6.6MB/s eta 0:00:01\r\u001b[K     |█████████████████████████▊      | 1.8MB 6.6MB/s eta 0:00:01\r\u001b[K     |█████████████████████████▉      | 1.8MB 6.6MB/s eta 0:00:01\r\u001b[K     |██████████████████████████      | 1.8MB 6.6MB/s eta 0:00:01\r\u001b[K     |██████████████████████████▏     | 1.8MB 6.6MB/s eta 0:00:01\r\u001b[K     |██████████████████████████▎     | 1.9MB 6.6MB/s eta 0:00:01\r\u001b[K     |██████████████████████████▍     | 1.9MB 6.6MB/s eta 0:00:01\r\u001b[K     |██████████████████████████▋     | 1.9MB 6.6MB/s eta 0:00:01\r\u001b[K     |██████████████████████████▊     | 1.9MB 6.6MB/s eta 0:00:01\r\u001b[K     |██████████████████████████▉     | 1.9MB 6.6MB/s eta 0:00:01\r\u001b[K     |███████████████████████████     | 1.9MB 6.6MB/s eta 0:00:01\r\u001b[K     |███████████████████████████▏    | 1.9MB 6.6MB/s eta 0:00:01\r\u001b[K     |███████████████████████████▎    | 1.9MB 6.6MB/s eta 0:00:01\r\u001b[K     |███████████████████████████▌    | 1.9MB 6.6MB/s eta 0:00:01\r\u001b[K     |███████████████████████████▋    | 1.9MB 6.6MB/s eta 0:00:01\r\u001b[K     |███████████████████████████▊    | 2.0MB 6.6MB/s eta 0:00:01\r\u001b[K     |███████████████████████████▉    | 2.0MB 6.6MB/s eta 0:00:01\r\u001b[K     |████████████████████████████    | 2.0MB 6.6MB/s eta 0:00:01\r\u001b[K     |████████████████████████████▏   | 2.0MB 6.6MB/s eta 0:00:01\r\u001b[K     |████████████████████████████▎   | 2.0MB 6.6MB/s eta 0:00:01\r\u001b[K     |████████████████████████████▌   | 2.0MB 6.6MB/s eta 0:00:01\r\u001b[K     |████████████████████████████▋   | 2.0MB 6.6MB/s eta 0:00:01\r\u001b[K     |████████████████████████████▊   | 2.0MB 6.6MB/s eta 0:00:01\r\u001b[K     |█████████████████████████████   | 2.0MB 6.6MB/s eta 0:00:01\r\u001b[K     |█████████████████████████████   | 2.0MB 6.6MB/s eta 0:00:01\r\u001b[K     |█████████████████████████████▏  | 2.1MB 6.6MB/s eta 0:00:01\r\u001b[K     |█████████████████████████████▍  | 2.1MB 6.6MB/s eta 0:00:01\r\u001b[K     |█████████████████████████████▌  | 2.1MB 6.6MB/s eta 0:00:01\r\u001b[K     |█████████████████████████████▋  | 2.1MB 6.6MB/s eta 0:00:01\r\u001b[K     |█████████████████████████████▊  | 2.1MB 6.6MB/s eta 0:00:01\r\u001b[K     |██████████████████████████████  | 2.1MB 6.6MB/s eta 0:00:01\r\u001b[K     |██████████████████████████████  | 2.1MB 6.6MB/s eta 0:00:01\r\u001b[K     |██████████████████████████████▏ | 2.1MB 6.6MB/s eta 0:00:01\r\u001b[K     |██████████████████████████████▍ | 2.1MB 6.6MB/s eta 0:00:01\r\u001b[K     |██████████████████████████████▌ | 2.2MB 6.6MB/s eta 0:00:01\r\u001b[K     |██████████████████████████████▋ | 2.2MB 6.6MB/s eta 0:00:01\r\u001b[K     |██████████████████████████████▉ | 2.2MB 6.6MB/s eta 0:00:01\r\u001b[K     |███████████████████████████████ | 2.2MB 6.6MB/s eta 0:00:01\r\u001b[K     |███████████████████████████████ | 2.2MB 6.6MB/s eta 0:00:01\r\u001b[K     |███████████████████████████████▎| 2.2MB 6.6MB/s eta 0:00:01\r\u001b[K     |███████████████████████████████▍| 2.2MB 6.6MB/s eta 0:00:01\r\u001b[K     |███████████████████████████████▌| 2.2MB 6.6MB/s eta 0:00:01\r\u001b[K     |███████████████████████████████▋| 2.2MB 6.6MB/s eta 0:00:01\r\u001b[K     |███████████████████████████████▉| 2.2MB 6.6MB/s eta 0:00:01\r\u001b[K     |████████████████████████████████| 2.3MB 6.6MB/s eta 0:00:01\r\u001b[K     |████████████████████████████████| 2.3MB 6.6MB/s \n",
            "\u001b[?25hBuilding wheels for collected packages: mtcnn\n",
            "  Building wheel for mtcnn (setup.py) ... \u001b[?25l\u001b[?25hdone\n",
            "  Created wheel for mtcnn: filename=mtcnn-0.0.9-cp36-none-any.whl size=2257690 sha256=72b658cf1431e0fe91396d7c1074f25ae1eae3fff51ea7c19cf7b7d80175dc66\n",
            "  Stored in directory: /root/.cache/pip/wheels/85/81/65/6363fa5aafd7a155c896591e0c7c6e27b69642aa82b9cbf076\n",
            "Successfully built mtcnn\n",
            "Installing collected packages: mtcnn\n",
            "Successfully installed mtcnn-0.0.9\n"
          ],
          "name": "stdout"
        }
      ]
    },
    {
      "cell_type": "code",
      "metadata": {
        "id": "D4Ck7flOBpqn",
        "colab_type": "code",
        "colab": {
          "base_uri": "https://localhost:8080/",
          "height": 34
        },
        "outputId": "a16cf5f9-ebb4-485d-cbaa-345b4e04df75"
      },
      "source": [
        "# confirm mtcnn was installed correctly\n",
        "import mtcnn\n",
        "# print version\n",
        "print(mtcnn.__version__)"
      ],
      "execution_count": 12,
      "outputs": [
        {
          "output_type": "stream",
          "text": [
            "0.0.9\n"
          ],
          "name": "stdout"
        }
      ]
    },
    {
      "cell_type": "markdown",
      "metadata": {
        "id": "PZ8xTCFFhWAy",
        "colab_type": "text"
      },
      "source": [
        "We can use the mtcnn library to create a face detector and extract faces for our use with the FaceNet face detector models in subsequent sections.\n",
        "\n",
        "The first step is to load an image as a NumPy array, which we can achieve using the PIL library and the open() function. We will also convert the image to RGB, just in case the image has an alpha channel or is black and white."
      ]
    },
    {
      "cell_type": "code",
      "metadata": {
        "id": "IeAZ7IDfBxPd",
        "colab_type": "code",
        "colab": {}
      },
      "source": [
        "# face detection for the 5 Celebrity Faces Dataset\n",
        "from os import listdir\n",
        "from os.path import isdir\n",
        "from PIL import Image\n",
        "from matplotlib import pyplot\n",
        "from numpy import savez_compressed\n",
        "from numpy import asarray\n",
        "from mtcnn.mtcnn import MTCNN"
      ],
      "execution_count": 0,
      "outputs": []
    },
    {
      "cell_type": "markdown",
      "metadata": {
        "id": "2yxbzjG7h5k1",
        "colab_type": "text"
      },
      "source": [
        "If we assume there is only one face in the photo for our experiments, we can determine the pixel coordinates of the bounding box as follows. Sometimes the library will return a negative pixel index, and I think this is a bug. We can fix this by taking the absolute value of the coordinates."
      ]
    },
    {
      "cell_type": "markdown",
      "metadata": {
        "id": "8RBRBv9MiRL4",
        "colab_type": "text"
      },
      "source": [
        "We can use these coordinates to extract the face. We can then use the PIL library to resize this small image of the face to the required size; specifically, the model expects square input faces with the shape 160×160."
      ]
    },
    {
      "cell_type": "code",
      "metadata": {
        "id": "e4U9KzFWB8D5",
        "colab_type": "code",
        "colab": {}
      },
      "source": [
        "# extract a single face from a given photograph\n",
        "def extract_face(filename, required_size=(160, 160)):\n",
        "\t# load image from file\n",
        "\timage = Image.open(filename)\n",
        "\t# convert to RGB, if needed\n",
        "\timage = image.convert('RGB')\n",
        "\t# convert to array\n",
        "\tpixels = asarray(image)\n",
        "\t# create the detector, using default weights\n",
        "\tdetector = MTCNN()\n",
        "\t# detect faces in the image\n",
        "\tresults = detector.detect_faces(pixels)\n",
        "\t# extract the bounding box from the first face\n",
        "\tx1, y1, width, height = results[0]['box']\n",
        "\t# bug fix\n",
        "\tx1, y1 = abs(x1), abs(y1)\n",
        "\tx2, y2 = x1 + width, y1 + height\n",
        "\t# extract the face\n",
        "\tface = pixels[y1:y2, x1:x2]\n",
        "\t# resize pixels to the model size\n",
        "\timage = Image.fromarray(face)\n",
        "\timage = image.resize(required_size)\n",
        "\tface_array = asarray(image)\n",
        "\treturn face_array"
      ],
      "execution_count": 0,
      "outputs": []
    },
    {
      "cell_type": "markdown",
      "metadata": {
        "id": "M_oW0G5LiDBJ",
        "colab_type": "text"
      },
      "source": [
        "Let's plot some faces to have a look about our dataset."
      ]
    },
    {
      "cell_type": "code",
      "metadata": {
        "id": "AVlhk4xsChO-",
        "colab_type": "code",
        "colab": {
          "base_uri": "https://localhost:8080/",
          "height": 475
        },
        "outputId": "f5f0a26a-5fce-48f1-8129-5087703160fc"
      },
      "source": [
        "# specify folder to plot\n",
        "folder = '/content/5-celebrity-faces-dataset/train/amit/'\n",
        "i = 1\n",
        "# enumerate files\n",
        "for filename in listdir(folder):\n",
        "  # path\n",
        "  path = folder + filename\n",
        "  # get face\n",
        "  face = extract_face(path)\n",
        "  print(i, face.shape)\n",
        "  # plot\n",
        "  pyplot.subplot(2, 8, i)\n",
        "  pyplot.axis('off')\n",
        "  pyplot.imshow(face)\n",
        "  i += 1\n",
        "pyplot.show()"
      ],
      "execution_count": 22,
      "outputs": [
        {
          "output_type": "stream",
          "text": [
            "1 (160, 160, 3)\n",
            "2 (160, 160, 3)\n",
            "3 (160, 160, 3)\n",
            "4 (160, 160, 3)\n",
            "5 (160, 160, 3)\n",
            "6 (160, 160, 3)\n",
            "7 (160, 160, 3)\n",
            "8 (160, 160, 3)\n",
            "9 (160, 160, 3)\n",
            "10 (160, 160, 3)\n",
            "11 (160, 160, 3)\n",
            "12 (160, 160, 3)\n",
            "13 (160, 160, 3)\n",
            "14 (160, 160, 3)\n",
            "15 (160, 160, 3)\n",
            "16 (160, 160, 3)\n"
          ],
          "name": "stdout"
        },
        {
          "output_type": "display_data",
          "data": {
            "image/png": "[encoded data removed]",
            "text/plain": [
              "<Figure size 432x288 with 16 Axes>"
            ]
          },
          "metadata": {
            "tags": []
          }
        }
      ]
    },
    {
      "cell_type": "markdown",
      "metadata": {
        "id": "mfZl5w9Xi4CZ",
        "colab_type": "text"
      },
      "source": [
        "## 4. Prepare Data\n",
        "\n",
        "We can extend this to step over each subdirectory for a given dataset (e.g. ‘train‘ or ‘val‘), extract the faces, and prepare a dataset with the name as the output label for each detected face.\n",
        "\n",
        "The load_faces() function below will load all of the faces into a list for a given directory."
      ]
    },
    {
      "cell_type": "code",
      "metadata": {
        "id": "5UxFj2IHKNsH",
        "colab_type": "code",
        "colab": {}
      },
      "source": [
        "# load images and extract faces for all images in a directory\n",
        "def load_faces(directory):\n",
        "\tfaces = list()\n",
        "\t# enumerate files\n",
        "\tfor filename in listdir(directory):\n",
        "\t\t# path\n",
        "\t\tpath = directory + filename\n",
        "\t\t# get face\n",
        "\t\tface = extract_face(path)\n",
        "\t\t# store\n",
        "\t\tfaces.append(face)\n",
        "\treturn faces"
      ],
      "execution_count": 0,
      "outputs": []
    },
    {
      "cell_type": "code",
      "metadata": {
        "id": "YIUm5CIdU4et",
        "colab_type": "code",
        "colab": {}
      },
      "source": [
        "# load a dataset that contains one subdir for each class that in turn contains images\n",
        "def load_dataset(directory):\n",
        "\tX, y = list(), list()\n",
        "\t# enumerate folders, on per class\n",
        "\tfor subdir in listdir(directory):\n",
        "\t\t# path\n",
        "\t\tpath = directory + subdir + '/'\n",
        "\t\t# skip any files that might be in the dir\n",
        "\t\tif not isdir(path):\n",
        "\t\t\tcontinue\n",
        "\t\t# load all faces in the subdirectory\n",
        "\t\tfaces = load_faces(path)\n",
        "\t\t# create labels\n",
        "\t\tlabels = [subdir for _ in range(len(faces))]\n",
        "\t\t# summarize progress\n",
        "\t\tprint('>loaded %d examples for class: %s' % (len(faces), subdir))\n",
        "\t\t# store\n",
        "\t\tX.extend(faces)\n",
        "\t\ty.extend(labels)\n",
        "\treturn asarray(X), asarray(y)"
      ],
      "execution_count": 0,
      "outputs": []
    },
    {
      "cell_type": "markdown",
      "metadata": {
        "id": "gKAGMgUwjvoL",
        "colab_type": "text"
      },
      "source": [
        "We can then call this function for the ‘train’ and ‘val’ folders to load all of the data, then save the results in a single compressed NumPy array file via the savez_compressed() function."
      ]
    },
    {
      "cell_type": "code",
      "metadata": {
        "id": "JFaPqQA7VBK5",
        "colab_type": "code",
        "colab": {
          "base_uri": "https://localhost:8080/",
          "height": 235
        },
        "outputId": "43ccfc75-a7f9-4a9c-e24f-b55128b79c57"
      },
      "source": [
        "# load train dataset\n",
        "trainX, trainy = load_dataset('5-celebrity-faces-dataset/train/')\n",
        "print(trainX.shape, trainy.shape)\n",
        "# load test dataset\n",
        "testX, testy = load_dataset('5-celebrity-faces-dataset/val/')\n",
        "# save arrays to one file in compressed format\n",
        "savez_compressed('5-celebrity-faces-dataset.npz', trainX, trainy, testX, testy)"
      ],
      "execution_count": 25,
      "outputs": [
        {
          "output_type": "stream",
          "text": [
            ">loaded 14 examples for class: ben_afflek\n",
            ">loaded 22 examples for class: mindy_kaling\n",
            ">loaded 19 examples for class: madonna\n",
            ">loaded 17 examples for class: elton_john\n",
            ">loaded 16 examples for class: amit\n",
            ">loaded 21 examples for class: jerry_seinfeld\n",
            "(109, 160, 160, 3) (109,)\n",
            ">loaded 5 examples for class: ben_afflek\n",
            ">loaded 5 examples for class: mindy_kaling\n",
            ">loaded 5 examples for class: madonna\n",
            ">loaded 5 examples for class: elton_john\n",
            ">loaded 5 examples for class: amit\n",
            ">loaded 5 examples for class: jerry_seinfeld\n"
          ],
          "name": "stdout"
        }
      ]
    },
    {
      "cell_type": "code",
      "metadata": {
        "id": "_qvpVNM9VXz0",
        "colab_type": "code",
        "colab": {
          "base_uri": "https://localhost:8080/",
          "height": 34
        },
        "outputId": "c7636380-fe21-43f6-e619-305f5f8a7ca0"
      },
      "source": [
        "print(testX.shape, testy.shape)"
      ],
      "execution_count": 26,
      "outputs": [
        {
          "output_type": "stream",
          "text": [
            "(30, 160, 160, 3) (30,)\n"
          ],
          "name": "stdout"
        }
      ]
    },
    {
      "cell_type": "markdown",
      "metadata": {
        "id": "cs53ZyWFXaXg",
        "colab_type": "text"
      },
      "source": [
        "## 5. Create Face Embeddings\n",
        "The next step is to create a face embedding.\n",
        "\n",
        "A face embedding is a vector that represents the features extracted from the face. This can then be compared with the vectors generated for other faces. For example, another vector that is close (by some measure) may be the same person, whereas another vector that is far (by some measure) may be a different person."
      ]
    },
    {
      "cell_type": "markdown",
      "metadata": {
        "id": "TteuSZZ2Xr1j",
        "colab_type": "text"
      },
      "source": [
        "The classifier model that we want to develop will take a face embedding as input and predict the identity of the face. The FaceNet model will generate this embedding for a given image of a face."
      ]
    },
    {
      "cell_type": "markdown",
      "metadata": {
        "id": "UZDls2eDXvg4",
        "colab_type": "text"
      },
      "source": [
        "The FaceNet model can be used as part of the classifier itself, or we can use the FaceNet model to pre-process a face to create a face embedding that can be stored and used as input to our classifier model. This latter approach is preferred as the FaceNet model is both large and slow to create a face embedding."
      ]
    },
    {
      "cell_type": "markdown",
      "metadata": {
        "id": "ZJQU7DLDX59U",
        "colab_type": "text"
      },
      "source": [
        "We can, therefore, pre-compute the face embeddings for all faces in the train and test (formally ‘val‘) sets in our 5 Celebrity Faces Dataset."
      ]
    },
    {
      "cell_type": "code",
      "metadata": {
        "id": "pkPgeZJbXq5I",
        "colab_type": "code",
        "colab": {}
      },
      "source": [
        "# calculate a face embedding for each face in the dataset using facenet\n",
        "from numpy import load\n",
        "from numpy import expand_dims\n",
        "from numpy import asarray\n",
        "from numpy import savez_compressed\n",
        "from keras.models import load_model"
      ],
      "execution_count": 0,
      "outputs": []
    },
    {
      "cell_type": "code",
      "metadata": {
        "id": "0w4gfFpLXNcc",
        "colab_type": "code",
        "colab": {}
      },
      "source": [
        "# get the face embedding for one face\n",
        "def get_embedding(model, face_pixels):\n",
        "\t# scale pixel values\n",
        "\tface_pixels = face_pixels.astype('float32')\n",
        "\t# standardize pixel values across channels (global)\n",
        "\tmean, std = face_pixels.mean(), face_pixels.std()\n",
        "\tface_pixels = (face_pixels - mean) / std\n",
        "\t# transform face into one sample\n",
        "\tsamples = expand_dims(face_pixels, axis=0)\n",
        "\t# make prediction to get embedding\n",
        "\tyhat = model.predict(samples)\n",
        "\treturn yhat[0]"
      ],
      "execution_count": 0,
      "outputs": []
    },
    {
      "cell_type": "code",
      "metadata": {
        "id": "nG7D2utAZStM",
        "colab_type": "code",
        "colab": {
          "base_uri": "https://localhost:8080/",
          "height": 34
        },
        "outputId": "e6bde119-d4ce-4d0b-cd2b-86e47831b826"
      },
      "source": [
        "# load the face dataset\n",
        "data = load('5-celebrity-faces-dataset.npz')\n",
        "trainX, trainy, testX, testy = data['arr_0'], data['arr_1'], data['arr_2'], data['arr_3']\n",
        "print('Loaded: ', trainX.shape, trainy.shape, testX.shape, testy.shape)"
      ],
      "execution_count": 29,
      "outputs": [
        {
          "output_type": "stream",
          "text": [
            "Loaded:  (109, 160, 160, 3) (109,) (30, 160, 160, 3) (30,)\n"
          ],
          "name": "stdout"
        }
      ]
    },
    {
      "cell_type": "code",
      "metadata": {
        "id": "0V6iD8YlZaQO",
        "colab_type": "code",
        "colab": {
          "base_uri": "https://localhost:8080/",
          "height": 87
        },
        "outputId": "60ee9247-6343-47e9-b8ad-2674a86b86f1"
      },
      "source": [
        "# load the facenet model\n",
        "model = load_model('/content/keras-facenet/model/facenet_keras.h5')\n",
        "print('Loaded Model')"
      ],
      "execution_count": 31,
      "outputs": [
        {
          "output_type": "stream",
          "text": [
            "Loaded Model\n"
          ],
          "name": "stdout"
        },
        {
          "output_type": "stream",
          "text": [
            "/usr/local/lib/python3.6/dist-packages/keras/engine/saving.py:310: UserWarning: No training configuration found in save file: the model was *not* compiled. Compile it manually.\n",
            "  warnings.warn('No training configuration found in save file: '\n"
          ],
          "name": "stderr"
        }
      ]
    },
    {
      "cell_type": "code",
      "metadata": {
        "id": "aTw-VrBOZf7m",
        "colab_type": "code",
        "colab": {
          "base_uri": "https://localhost:8080/",
          "height": 34
        },
        "outputId": "95d0ad07-9475-40de-b8b7-a404e4cd5726"
      },
      "source": [
        "# convert each face in the train set to an embedding\n",
        "newTrainX = list()\n",
        "for face_pixels in trainX:\n",
        "\tembedding = get_embedding(model, face_pixels)\n",
        "\tnewTrainX.append(embedding)\n",
        "newTrainX = asarray(newTrainX)\n",
        "print(newTrainX.shape)"
      ],
      "execution_count": 32,
      "outputs": [
        {
          "output_type": "stream",
          "text": [
            "(109, 128)\n"
          ],
          "name": "stdout"
        }
      ]
    },
    {
      "cell_type": "code",
      "metadata": {
        "id": "TTvwxGQxZ0-1",
        "colab_type": "code",
        "colab": {
          "base_uri": "https://localhost:8080/",
          "height": 34
        },
        "outputId": "c87bb871-64e2-436f-b020-6e9f61b5dc18"
      },
      "source": [
        "# convert each face in the test set to an embedding\n",
        "newTestX = list()\n",
        "for face_pixels in testX:\n",
        "\tembedding = get_embedding(model, face_pixels)\n",
        "\tnewTestX.append(embedding)\n",
        "newTestX = asarray(newTestX)\n",
        "print(newTestX.shape)"
      ],
      "execution_count": 33,
      "outputs": [
        {
          "output_type": "stream",
          "text": [
            "(30, 128)\n"
          ],
          "name": "stdout"
        }
      ]
    },
    {
      "cell_type": "code",
      "metadata": {
        "id": "P9uV6w91Z8uk",
        "colab_type": "code",
        "colab": {}
      },
      "source": [
        "# save arrays to one file in compressed format\n",
        "savez_compressed('5-celebrity-faces-embeddings.npz', newTrainX, trainy, newTestX, testy)"
      ],
      "execution_count": 0,
      "outputs": []
    },
    {
      "cell_type": "markdown",
      "metadata": {
        "id": "-CjfRNiSaPHs",
        "colab_type": "text"
      },
      "source": [
        "## 6.Perform Face Classification\n",
        "In this section, we will develop a model to classify face embeddings as one of the known celebrities in the 5 Celebrity Faces Dataset.*italicized text*"
      ]
    },
    {
      "cell_type": "code",
      "metadata": {
        "id": "1_MnP2sva_0c",
        "colab_type": "code",
        "colab": {}
      },
      "source": [
        "# develop a classifier for the 5 Celebrity Faces Dataset\n",
        "from numpy import load\n",
        "from sklearn.metrics import accuracy_score\n",
        "from sklearn.preprocessing import LabelEncoder\n",
        "from sklearn.preprocessing import Normalizer\n",
        "from sklearn.svm import SVC"
      ],
      "execution_count": 0,
      "outputs": []
    },
    {
      "cell_type": "markdown",
      "metadata": {
        "id": "edKri8gJaaTb",
        "colab_type": "text"
      },
      "source": [
        "the data requires some minor preparation prior to modeling.\n",
        "\n",
        "First, it is a good practice to normalize the face embedding vectors. It is a good practice because the vectors are often compared to each other using a distance metric.\n",
        "\n",
        "In this context, vector normalization means scaling the values until the length or magnitude of the vectors is 1 or unit length. This can be achieved using the Normalizer class in scikit-learn. It might even be more convenient to perform this step when the face embeddings are created in the previous step."
      ]
    },
    {
      "cell_type": "code",
      "metadata": {
        "id": "9dnzuZMWbIYi",
        "colab_type": "code",
        "colab": {
          "base_uri": "https://localhost:8080/",
          "height": 34
        },
        "outputId": "7eaddbde-ff26-494b-ce3f-9b3d064c2aa4"
      },
      "source": [
        "# load dataset\n",
        "data = load('5-celebrity-faces-embeddings.npz')\n",
        "trainX, trainy, testX, testy = data['arr_0'], data['arr_1'], data['arr_2'], data['arr_3']\n",
        "print('Dataset: train=%d, test=%d' % (trainX.shape[0], testX.shape[0]))\n",
        "# normalize input vectors\n",
        "in_encoder = Normalizer(norm='l2')\n",
        "trainX = in_encoder.transform(trainX)\n",
        "testX = in_encoder.transform(testX)"
      ],
      "execution_count": 36,
      "outputs": [
        {
          "output_type": "stream",
          "text": [
            "Dataset: train=109, test=30\n"
          ],
          "name": "stdout"
        }
      ]
    },
    {
      "cell_type": "markdown",
      "metadata": {
        "id": "bJMP4rc3ahd2",
        "colab_type": "text"
      },
      "source": [
        "the string target variables for each celebrity name need to be converted to integers.\n",
        "\n",
        "This can be achieved via the LabelEncoder class in scikit-learn"
      ]
    },
    {
      "cell_type": "code",
      "metadata": {
        "id": "nhlHYZNpbSBB",
        "colab_type": "code",
        "colab": {}
      },
      "source": [
        "# label encode targets\n",
        "out_encoder = LabelEncoder()\n",
        "out_encoder.fit(trainy)\n",
        "trainy = out_encoder.transform(trainy)\n",
        "testy = out_encoder.transform(testy)"
      ],
      "execution_count": 0,
      "outputs": []
    },
    {
      "cell_type": "markdown",
      "metadata": {
        "id": "cglDaL_AatFJ",
        "colab_type": "text"
      },
      "source": [
        "It is common to use a Linear Support Vector Machine (SVM) when working with normalized face embedding inputs. This is because the method is very effective at separating the face embedding vectors. We can fit a linear SVM to the training data using the SVC class in scikit-learn and setting the ‘kernel‘ attribute to ‘linear‘. We may also want probabilities later when making predictions, which can be configured by setting ‘probability‘ to ‘True‘."
      ]
    },
    {
      "cell_type": "markdown",
      "metadata": {
        "id": "Cu4i59TVa8C8",
        "colab_type": "text"
      },
      "source": [
        "This can be achieved by using the fit model to make a prediction for each example in the train and test datasets and then calculating the classification accuracy."
      ]
    },
    {
      "cell_type": "code",
      "metadata": {
        "id": "HtFUogwhbaI6",
        "colab_type": "code",
        "colab": {
          "base_uri": "https://localhost:8080/",
          "height": 34
        },
        "outputId": "d1e3e126-6363-4fa4-be77-3f76d190c61d"
      },
      "source": [
        "# fit model\n",
        "model = SVC(kernel='linear', probability=True)\n",
        "model.fit(trainX, trainy)\n",
        "# predict\n",
        "yhat_train = model.predict(trainX)\n",
        "yhat_test = model.predict(testX)\n",
        "# score\n",
        "score_train = accuracy_score(trainy, yhat_train)\n",
        "score_test = accuracy_score(testy, yhat_test)\n",
        "# summarize\n",
        "print('Accuracy: train=%.3f, test=%.3f' % (score_train*100, score_test*100))"
      ],
      "execution_count": 38,
      "outputs": [
        {
          "output_type": "stream",
          "text": [
            "Accuracy: train=100.000, test=100.000\n"
          ],
          "name": "stdout"
        }
      ]
    },
    {
      "cell_type": "markdown",
      "metadata": {
        "id": "kKAeZSjubw7o",
        "colab_type": "text"
      },
      "source": [
        " the model is evaluated on the train and test dataset, showing perfect classification accuracy. This is not surprising given the size of the dataset and the power of the face detection and face recognition models used."
      ]
    },
    {
      "cell_type": "code",
      "metadata": {
        "id": "sxbKmL3Bck3M",
        "colab_type": "code",
        "colab": {}
      },
      "source": [
        "# develop a classifier for the 5 Celebrity Faces Dataset\n",
        "from random import choice\n",
        "from numpy import load\n",
        "from numpy import expand_dims\n",
        "from sklearn.preprocessing import LabelEncoder\n",
        "from sklearn.preprocessing import Normalizer\n",
        "from sklearn.svm import SVC\n",
        "from matplotlib import pyplot"
      ],
      "execution_count": 0,
      "outputs": []
    },
    {
      "cell_type": "markdown",
      "metadata": {
        "id": "W08BFBFYcDSQ",
        "colab_type": "text"
      },
      "source": [
        "We can make it more interesting by plotting the original face and the prediction.\n",
        "\n",
        "First, we need to load the face dataset, specifically the faces in the test dataset. We could also load the original photos to make it even more interesting."
      ]
    },
    {
      "cell_type": "code",
      "metadata": {
        "id": "NXE7S9AndBLE",
        "colab_type": "code",
        "colab": {
          "base_uri": "https://localhost:8080/",
          "height": 84
        },
        "outputId": "cb5768f0-3d5c-40ee-ead7-66554f488789"
      },
      "source": [
        "# load faces\n",
        "data = load('5-celebrity-faces-dataset.npz')\n",
        "testX_faces = data['arr_2']\n",
        "# load face embeddings\n",
        "data = load('5-celebrity-faces-embeddings.npz')\n",
        "trainX, trainy, testX, testy = data['arr_0'], data['arr_1'], data['arr_2'], data['arr_3']\n",
        "# normalize input vectors\n",
        "in_encoder = Normalizer(norm='l2')\n",
        "trainX = in_encoder.transform(trainX)\n",
        "testX = in_encoder.transform(testX)\n",
        "# label encode targets\n",
        "out_encoder = LabelEncoder()\n",
        "out_encoder.fit(trainy)\n",
        "trainy = out_encoder.transform(trainy)\n",
        "testy = out_encoder.transform(testy)\n",
        "# fit model\n",
        "model = SVC(kernel='linear', probability=True)\n",
        "model.fit(trainX, trainy)"
      ],
      "execution_count": 40,
      "outputs": [
        {
          "output_type": "execute_result",
          "data": {
            "text/plain": [
              "SVC(C=1.0, cache_size=200, class_weight=None, coef0=0.0,\n",
              "    decision_function_shape='ovr', degree=3, gamma='auto_deprecated',\n",
              "    kernel='linear', max_iter=-1, probability=True, random_state=None,\n",
              "    shrinking=True, tol=0.001, verbose=False)"
            ]
          },
          "metadata": {
            "tags": []
          },
          "execution_count": 40
        }
      ]
    },
    {
      "cell_type": "markdown",
      "metadata": {
        "id": "7HhD7OU9cJqK",
        "colab_type": "text"
      },
      "source": [
        "First, we need to select a random example from the test set, then get the embedding, face pixels, expected class prediction, and the corresponding name for the class."
      ]
    },
    {
      "cell_type": "code",
      "metadata": {
        "id": "LtEC3kEFdLLH",
        "colab_type": "code",
        "colab": {}
      },
      "source": [
        "# test model on a random example from the test dataset\n",
        "selection = choice([i for i in range(testX.shape[0])])\n",
        "random_face_pixels = testX_faces[selection]\n",
        "random_face_emb = testX[selection]\n",
        "random_face_class = testy[selection]\n",
        "random_face_name = out_encoder.inverse_transform([random_face_class])"
      ],
      "execution_count": 0,
      "outputs": []
    },
    {
      "cell_type": "markdown",
      "metadata": {
        "id": "zR-fVtzDcQIj",
        "colab_type": "text"
      },
      "source": [
        "Next, we can use the face embedding as an input to make a single prediction with the fit model.\n",
        "\n",
        "We can predict both the class integer and the probability of the prediction."
      ]
    },
    {
      "cell_type": "code",
      "metadata": {
        "id": "nmOLk2H2dR5q",
        "colab_type": "code",
        "colab": {}
      },
      "source": [
        "# prediction for the face\n",
        "samples = expand_dims(random_face_emb, axis=0)\n",
        "yhat_class = model.predict(samples)\n",
        "yhat_prob = model.predict_proba(samples)"
      ],
      "execution_count": 0,
      "outputs": []
    },
    {
      "cell_type": "markdown",
      "metadata": {
        "id": "TwTiXYDfcVzt",
        "colab_type": "text"
      },
      "source": [
        "We can then get the name for the predicted class integer, and the probability for this prediction."
      ]
    },
    {
      "cell_type": "code",
      "metadata": {
        "id": "Cq6K5yWRdX_7",
        "colab_type": "code",
        "colab": {
          "base_uri": "https://localhost:8080/",
          "height": 50
        },
        "outputId": "cdbff2e4-6fb1-4792-bd0c-9db6c8a47426"
      },
      "source": [
        "# get name\n",
        "class_index = yhat_class[0]\n",
        "class_probability = yhat_prob[0,class_index] * 100\n",
        "predict_names = out_encoder.inverse_transform(yhat_class)\n",
        "print('Predicted: %s (%.3f)' % (predict_names[0], class_probability))\n",
        "print('Expected: %s' % random_face_name[0])"
      ],
      "execution_count": 43,
      "outputs": [
        {
          "output_type": "stream",
          "text": [
            "Predicted: amit (74.273)\n",
            "Expected: amit\n"
          ],
          "name": "stdout"
        }
      ]
    },
    {
      "cell_type": "markdown",
      "metadata": {
        "id": "HJyiwA2ecbzW",
        "colab_type": "text"
      },
      "source": [
        "We can also plot the face pixels along with the predicted name and probability."
      ]
    },
    {
      "cell_type": "code",
      "metadata": {
        "id": "pqJaXAvzddb9",
        "colab_type": "code",
        "colab": {
          "base_uri": "https://localhost:8080/",
          "height": 281
        },
        "outputId": "9fc65cdc-0127-4c89-f3cf-fee8575a9ffd"
      },
      "source": [
        "# plot\n",
        "pyplot.imshow(random_face_pixels)\n",
        "title = '%s (%.3f)' % (predict_names[0], class_probability)\n",
        "pyplot.title(title)\n",
        "pyplot.show()"
      ],
      "execution_count": 44,
      "outputs": [
        {
          "output_type": "display_data",
          "data": {
            "image/png": "[encoded data removed]",
            "text/plain": [
              "<Figure size 432x288 with 1 Axes>"
            ]
          },
          "metadata": {
            "tags": []
          }
        }
      ]
    },
    {
      "cell_type": "code",
      "metadata": {
        "id": "rah7x-OCaCAs",
        "colab_type": "code",
        "colab": {}
      },
      "source": [
        ""
      ],
      "execution_count": 0,
      "outputs": []
    }
  ]
}